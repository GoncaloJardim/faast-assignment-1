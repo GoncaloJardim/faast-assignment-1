{
 "cells": [
  {
   "cell_type": "code",
   "execution_count": 1,
   "id": "51ad0eba",
   "metadata": {},
   "outputs": [],
   "source": [
    "import pandas as pd\n",
    "import numpy as np\n",
    "import pathlib\n",
    "import argparse"
   ]
  },
  {
   "cell_type": "code",
   "execution_count": null,
   "id": "8d5f6127",
   "metadata": {},
   "outputs": [],
   "source": [
    "DATA_PATH =  pathlib.Path().resolve().parents[0] / 'life_expectancy/data'"
   ]
  },
  {
   "cell_type": "code",
   "execution_count": 5,
   "id": "35dae8ca",
   "metadata": {},
   "outputs": [],
   "source": [
    "if __name__ == \"__main__\": # pragma: no cover\n",
    "    def clean_data():\n",
    "        \"\"\" Clean_data function does the following:\n",
    "            -Loads file.\n",
    "            -Melts Date columns into a single column;\n",
    "            -Split first column into 4 different;\n",
    "            -Remove NaN's;\n",
    "            -Transform columns value and year and its datatypes\n",
    "            -Filter region column, only for Portugal (PT).\n",
    "            -Save output into csv file, without index.\n",
    "        \"\"\"\n",
    "\n",
    "        DATA_PATH =  pathlib.Path().resolve().parents[0] / 'life_expectancy/data'\n",
    "\n",
    "        life_expectancy = pd.read_csv(\n",
    "            DATA_PATH.joinpath('eu_life_expectancy_raw.tsv'),\n",
    "            sep=\"\\t\")\n",
    "\n",
    "\n",
    "        life_expectancy.columns =  [column_title.replace(\"\\\\\",\"\") for column_title in life_expectancy.columns]\n",
    "\n",
    "        life_expectancy = pd.melt(life_expectancy, \n",
    "                                id_vars= life_expectancy.columns[0], \n",
    "                                var_name= \"year\",\n",
    "                                value_vars= life_expectancy.columns[1:],\n",
    "                                value_name= \"value\")\n",
    "                            \n",
    "\n",
    "        life_expectancy[[\"unit\",\"sex\",\"age\",\"region\"]] = (life_expectancy[\"unit,sex,age,geotime\"].\n",
    "                                                        str.split(',', expand=True)\n",
    "        )\n",
    "\n",
    "        life_expectancy = (\n",
    "            life_expectancy.\n",
    "            drop(columns=\"unit,sex,age,geotime\").\n",
    "            replace(\": \",np.NaN).\n",
    "            dropna(how=\"any\")\n",
    "            )   \n",
    "            \n",
    "        life_expectancy[\"value\"] = ( \n",
    "            life_expectancy[\"value\"].\n",
    "            str.split().str[0]\n",
    "        )\n",
    "\n",
    "        life_expectancy = life_expectancy[life_expectancy[\"region\"]==\"PT\"]\n",
    "\n",
    "        life_expectancy = life_expectancy.astype(\n",
    "            {\"year\":int, \"value\": float})\n",
    "\n",
    "        life_expectancy[\n",
    "            [\"unit\",\"sex\",\"age\",\"region\",\"year\",\"value\"]\n",
    "            ].to_csv(\n",
    "                DATA_PATH.joinpath(\"pt_life_expectancy.csv\"),\n",
    "                index= False)\n",
    "\n",
    "\n",
    "\n"
   ]
  },
  {
   "cell_type": "code",
   "execution_count": 17,
   "id": "1b02d3cc",
   "metadata": {},
   "outputs": [],
   "source": [
    "DATA_PATH =  pathlib.Path().resolve().parents[0] / 'life_expectancy/data'\n"
   ]
  },
  {
   "cell_type": "code",
   "execution_count": 18,
   "id": "54775ddf",
   "metadata": {},
   "outputs": [],
   "source": [
    "life_expectancy = pd.read_csv(DATA_PATH.joinpath('eu_life_expectancy_raw.tsv'),\n",
    "                              sep=\"\\t\")"
   ]
  },
  {
   "cell_type": "code",
   "execution_count": 19,
   "id": "e9243cb0",
   "metadata": {},
   "outputs": [],
   "source": [
    "life_expectancy.columns =  [column_title.replace(\"\\\\\",\"\") for column_title in life_expectancy.columns]\n",
    "\n",
    "life_expectancy = pd.melt(life_expectancy, \n",
    "                          id_vars= life_expectancy.columns[0], \n",
    "                          var_name= \"year\",\n",
    "                          value_vars= life_expectancy.columns[1:],\n",
    "                          value_name= \"value\")\n",
    "                      \n",
    "\n",
    "life_expectancy[[\"unit\",\"sex\",\"age\",\"region\"]] = (life_expectancy[\"unit,sex,age,geotime\"].\n",
    "                                                  str.split(',', expand=True)\n",
    ")\n",
    "\n",
    "life_expectancy = (\n",
    "    life_expectancy.\n",
    "    drop(columns=\"unit,sex,age,geotime\").\n",
    "    replace(\": \",np.NaN).\n",
    "    dropna(how=\"any\")\n",
    "    )   \n",
    "    \n",
    "life_expectancy[\"value\"] = ( \n",
    "    life_expectancy[\"value\"].\n",
    "    str.split().str[0]\n",
    ")\n",
    "\n",
    "life_expectancy = life_expectancy[life_expectancy[\"region\"]==\"PT\"]\n",
    "\n",
    "life_expectancy = life_expectancy.astype(\n",
    "    {\"year\":int, \"value\": float})\n",
    "\n",
    "life_expectancy = life_expectancy[\n",
    "    [\"unit\",\"sex\",\"age\",\"region\",\"year\",\"value\"]\n",
    "    ]\n",
    " "
   ]
  },
  {
   "cell_type": "code",
   "execution_count": 20,
   "id": "7f122b82",
   "metadata": {},
   "outputs": [],
   "source": [
    "life_expectancy.to_csv(\n",
    "    DATA_PATH.joinpath(\"pt_life_expectancy.csv\"),\n",
    "    index= False)\n"
   ]
  }
 ],
 "metadata": {
  "kernelspec": {
   "display_name": "Python 3.10.4 ('model-deployment')",
   "language": "python",
   "name": "python3"
  },
  "language_info": {
   "codemirror_mode": {
    "name": "ipython",
    "version": 3
   },
   "file_extension": ".py",
   "mimetype": "text/x-python",
   "name": "python",
   "nbconvert_exporter": "python",
   "pygments_lexer": "ipython3",
   "version": "3.10.4"
  },
  "vscode": {
   "interpreter": {
    "hash": "d9fae6c475071b47418ff82577c54a33a1ea9b680268661fb2d5582d9995fd43"
   }
  }
 },
 "nbformat": 4,
 "nbformat_minor": 5
}
