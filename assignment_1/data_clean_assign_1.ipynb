{
 "cells": [
  {
   "cell_type": "code",
   "execution_count": 21,
   "id": "51ad0eba",
   "metadata": {},
   "outputs": [],
   "source": [
    "import pandas as pd\n",
    "import numpy as np\n",
    "import pathlib\n",
    "import argparse"
   ]
  },
  {
   "cell_type": "code",
   "execution_count": 22,
   "id": "8d5f6127",
   "metadata": {},
   "outputs": [],
   "source": [
    "DATA_PATH =  pathlib.Path().resolve().parents[0] / 'life_expectancy/data'"
   ]
  },
  {
   "cell_type": "code",
   "execution_count": 3,
   "id": "35dae8ca",
   "metadata": {},
   "outputs": [],
   "source": [
    "if __name__ == \"__main__\": # pragma: no cover\n",
    "    def clean_data():\n",
    "        \"\"\" Clean_data function does the following:\n",
    "            -Loads file.\n",
    "            -Melts Date columns into a single column;\n",
    "            -Split first column into 4 different;\n",
    "            -Remove NaN's;\n",
    "            -Transform columns value and year and its datatypes\n",
    "            -Filter region column, only for Portugal (PT).\n",
    "            -Save output into csv file, without index.\n",
    "        \"\"\"\n",
    "\n",
    "        DATA_PATH =  pathlib.Path().resolve().parents[0] / 'life_expectancy/data'\n",
    "\n",
    "        life_expectancy = pd.read_csv(\n",
    "            DATA_PATH.joinpath('eu_life_expectancy_raw.tsv'),\n",
    "            sep=\"\\t\")\n",
    "\n",
    "\n",
    "        life_expectancy.columns =  [column_title.replace(\"\\\\\",\"\") for column_title in life_expectancy.columns]\n",
    "\n",
    "        life_expectancy = pd.melt(life_expectancy, \n",
    "                                id_vars= life_expectancy.columns[0], \n",
    "                                var_name= \"year\",\n",
    "                                value_vars= life_expectancy.columns[1:],\n",
    "                                value_name= \"value\")\n",
    "                            \n",
    "\n",
    "        life_expectancy[[\"unit\",\"sex\",\"age\",\"region\"]] = (life_expectancy[\"unit,sex,age,geotime\"].\n",
    "                                                        str.split(',', expand=True)\n",
    "        )\n",
    "\n",
    "        life_expectancy = (\n",
    "            life_expectancy.\n",
    "            drop(columns=\"unit,sex,age,geotime\").\n",
    "            replace(\": \",np.NaN).\n",
    "            dropna(how=\"any\")\n",
    "            )   \n",
    "            \n",
    "        life_expectancy[\"value\"] = ( \n",
    "            life_expectancy[\"value\"].\n",
    "            str.split().str[0]\n",
    "        )\n",
    "\n",
    "        life_expectancy = life_expectancy[life_expectancy[\"region\"]==\"PT\"]\n",
    "\n",
    "        life_expectancy = life_expectancy.astype(\n",
    "            {\"year\":int, \"value\": float})\n",
    "\n",
    "        life_expectancy[\n",
    "            [\"unit\",\"sex\",\"age\",\"region\",\"year\",\"value\"]\n",
    "            ].to_csv(\n",
    "                DATA_PATH.joinpath(\"pt_life_expectancy.csv\"),\n",
    "                index= False)\n",
    "\n",
    "\n",
    "\n"
   ]
  },
  {
   "cell_type": "code",
   "execution_count": 4,
   "id": "1b02d3cc",
   "metadata": {},
   "outputs": [],
   "source": [
    "DATA_PATH =  pathlib.Path().resolve().parents[0] / 'life_expectancy/data'\n"
   ]
  },
  {
   "cell_type": "code",
   "execution_count": 5,
   "id": "54775ddf",
   "metadata": {},
   "outputs": [],
   "source": [
    "life_expectancy = pd.read_csv(DATA_PATH.joinpath('eu_life_expectancy_raw.tsv'),\n",
    "                              sep=\"\\t\")"
   ]
  },
  {
   "cell_type": "code",
   "execution_count": 6,
   "id": "e9243cb0",
   "metadata": {},
   "outputs": [],
   "source": [
    "life_expectancy.columns =  [column_title.replace(\"\\\\\",\"\") for column_title in life_expectancy.columns]\n",
    "\n",
    "life_expectancy = pd.melt(life_expectancy, \n",
    "                          id_vars= life_expectancy.columns[0], \n",
    "                          var_name= \"year\",\n",
    "                          value_vars= life_expectancy.columns[1:],\n",
    "                          value_name= \"value\")\n",
    "                      \n",
    "\n",
    "life_expectancy[[\"unit\",\"sex\",\"age\",\"region\"]] = (life_expectancy[\"unit,sex,age,geotime\"].\n",
    "                                                  str.split(',', expand=True)\n",
    ")\n",
    "\n",
    "life_expectancy = (\n",
    "    life_expectancy.\n",
    "    drop(columns=\"unit,sex,age,geotime\").\n",
    "    replace(\": \",np.NaN).\n",
    "    dropna(how=\"any\")\n",
    "    )   \n",
    "    \n",
    "life_expectancy[\"value\"] = ( \n",
    "    life_expectancy[\"value\"].\n",
    "    str.split().str[0]\n",
    ")\n",
    "\n",
    "life_expectancy = life_expectancy[life_expectancy[\"region\"]==\"PT\"]\n",
    "\n",
    "life_expectancy = life_expectancy.astype(\n",
    "    {\"year\":int, \"value\": float})\n",
    "\n",
    "life_expectancy = life_expectancy[\n",
    "    [\"unit\",\"sex\",\"age\",\"region\",\"year\",\"value\"]\n",
    "    ]\n",
    " "
   ]
  },
  {
   "cell_type": "code",
   "execution_count": 20,
   "id": "7f122b82",
   "metadata": {},
   "outputs": [],
   "source": [
    "life_expectancy.to_csv(\n",
    "    DATA_PATH.joinpath(\"pt_life_expectancy.csv\"),\n",
    "    index= False)\n"
   ]
  },
  {
   "cell_type": "markdown",
   "id": "4fecbe2a",
   "metadata": {},
   "source": [
    "#### Work on Enum:"
   ]
  },
  {
   "cell_type": "code",
   "execution_count": 24,
   "id": "0fb74ce8",
   "metadata": {},
   "outputs": [],
   "source": [
    "EXPECTED_PATH = pathlib.Path().resolve().parents[0] / 'life_expectancy/tests/fixtures'"
   ]
  },
  {
   "cell_type": "code",
   "execution_count": 25,
   "id": "ae8c099b",
   "metadata": {},
   "outputs": [],
   "source": [
    "work_countries = pd.read_csv(EXPECTED_PATH.joinpath('eu_life_expectancy_expected.csv'))"
   ]
  },
  {
   "cell_type": "code",
   "execution_count": 29,
   "id": "5a09b484",
   "metadata": {},
   "outputs": [
    {
     "data": {
      "text/html": [
       "<div>\n",
       "<style scoped>\n",
       "    .dataframe tbody tr th:only-of-type {\n",
       "        vertical-align: middle;\n",
       "    }\n",
       "\n",
       "    .dataframe tbody tr th {\n",
       "        vertical-align: top;\n",
       "    }\n",
       "\n",
       "    .dataframe thead th {\n",
       "        text-align: right;\n",
       "    }\n",
       "</style>\n",
       "<table border=\"1\" class=\"dataframe\">\n",
       "  <thead>\n",
       "    <tr style=\"text-align: right;\">\n",
       "      <th></th>\n",
       "      <th>unit</th>\n",
       "      <th>sex</th>\n",
       "      <th>age</th>\n",
       "      <th>region</th>\n",
       "      <th>year</th>\n",
       "      <th>value</th>\n",
       "    </tr>\n",
       "  </thead>\n",
       "  <tbody>\n",
       "    <tr>\n",
       "      <th>10</th>\n",
       "      <td>YR</td>\n",
       "      <td>F</td>\n",
       "      <td>Y65</td>\n",
       "      <td>EU27_2020</td>\n",
       "      <td>2021</td>\n",
       "      <td>20.9</td>\n",
       "    </tr>\n",
       "    <tr>\n",
       "      <th>40</th>\n",
       "      <td>YR</td>\n",
       "      <td>F</td>\n",
       "      <td>Y_LT1</td>\n",
       "      <td>EU27_2020</td>\n",
       "      <td>2021</td>\n",
       "      <td>82.8</td>\n",
       "    </tr>\n",
       "    <tr>\n",
       "      <th>70</th>\n",
       "      <td>YR</td>\n",
       "      <td>M</td>\n",
       "      <td>Y65</td>\n",
       "      <td>EU27_2020</td>\n",
       "      <td>2021</td>\n",
       "      <td>17.3</td>\n",
       "    </tr>\n",
       "    <tr>\n",
       "      <th>100</th>\n",
       "      <td>YR</td>\n",
       "      <td>M</td>\n",
       "      <td>Y_LT1</td>\n",
       "      <td>EU27_2020</td>\n",
       "      <td>2021</td>\n",
       "      <td>77.2</td>\n",
       "    </tr>\n",
       "    <tr>\n",
       "      <th>132</th>\n",
       "      <td>YR</td>\n",
       "      <td>T</td>\n",
       "      <td>Y65</td>\n",
       "      <td>EU27_2020</td>\n",
       "      <td>2021</td>\n",
       "      <td>19.3</td>\n",
       "    </tr>\n",
       "    <tr>\n",
       "      <th>...</th>\n",
       "      <td>...</td>\n",
       "      <td>...</td>\n",
       "      <td>...</td>\n",
       "      <td>...</td>\n",
       "      <td>...</td>\n",
       "      <td>...</td>\n",
       "    </tr>\n",
       "    <tr>\n",
       "      <th>237506</th>\n",
       "      <td>YR</td>\n",
       "      <td>T</td>\n",
       "      <td>Y_LT1</td>\n",
       "      <td>EEA30_2007</td>\n",
       "      <td>2002</td>\n",
       "      <td>77.8</td>\n",
       "    </tr>\n",
       "    <tr>\n",
       "      <th>237507</th>\n",
       "      <td>YR</td>\n",
       "      <td>T</td>\n",
       "      <td>Y_LT1</td>\n",
       "      <td>EEA31</td>\n",
       "      <td>2002</td>\n",
       "      <td>77.7</td>\n",
       "    </tr>\n",
       "    <tr>\n",
       "      <th>237511</th>\n",
       "      <td>YR</td>\n",
       "      <td>T</td>\n",
       "      <td>Y_LT1</td>\n",
       "      <td>EU27_2007</td>\n",
       "      <td>2002</td>\n",
       "      <td>77.7</td>\n",
       "    </tr>\n",
       "    <tr>\n",
       "      <th>237512</th>\n",
       "      <td>YR</td>\n",
       "      <td>T</td>\n",
       "      <td>Y_LT1</td>\n",
       "      <td>EU27_2020</td>\n",
       "      <td>2002</td>\n",
       "      <td>77.6</td>\n",
       "    </tr>\n",
       "    <tr>\n",
       "      <th>237513</th>\n",
       "      <td>YR</td>\n",
       "      <td>T</td>\n",
       "      <td>Y_LT1</td>\n",
       "      <td>EU28</td>\n",
       "      <td>2002</td>\n",
       "      <td>77.7</td>\n",
       "    </tr>\n",
       "  </tbody>\n",
       "</table>\n",
       "<p>32250 rows × 6 columns</p>\n",
       "</div>"
      ],
      "text/plain": [
       "       unit sex    age      region  year  value\n",
       "10       YR   F    Y65   EU27_2020  2021   20.9\n",
       "40       YR   F  Y_LT1   EU27_2020  2021   82.8\n",
       "70       YR   M    Y65   EU27_2020  2021   17.3\n",
       "100      YR   M  Y_LT1   EU27_2020  2021   77.2\n",
       "132      YR   T    Y65   EU27_2020  2021   19.3\n",
       "...     ...  ..    ...         ...   ...    ...\n",
       "237506   YR   T  Y_LT1  EEA30_2007  2002   77.8\n",
       "237507   YR   T  Y_LT1       EEA31  2002   77.7\n",
       "237511   YR   T  Y_LT1   EU27_2007  2002   77.7\n",
       "237512   YR   T  Y_LT1   EU27_2020  2002   77.6\n",
       "237513   YR   T  Y_LT1        EU28  2002   77.7\n",
       "\n",
       "[32250 rows x 6 columns]"
      ]
     },
     "execution_count": 29,
     "metadata": {},
     "output_type": "execute_result"
    }
   ],
   "source": [
    "work_countries[work_countries[\"region\"].str.contains(pat=\"\\d+\", regex = True)]"
   ]
  },
  {
   "cell_type": "code",
   "execution_count": 28,
   "id": "954bbcf9",
   "metadata": {},
   "outputs": [],
   "source": [
    "work_countries = work_countries[~work_countries[\"region\"].str.contains(pat=\"\\d+\", regex = True)]"
   ]
  },
  {
   "cell_type": "code",
   "execution_count": 31,
   "id": "77d83026",
   "metadata": {},
   "outputs": [],
   "source": [
    "country_list = list(work_countries[work_countries[\"region\"]!=\"EFTA\"][\"region\"].unique())"
   ]
  },
  {
   "cell_type": "code",
   "execution_count": 40,
   "id": "2bdc7b4f",
   "metadata": {},
   "outputs": [
    {
     "name": "stdout",
     "output_type": "stream",
     "text": [
      "PT\n",
      "RO\n",
      "SE\n",
      "SI\n",
      "SK\n",
      "DE\n",
      "DE_TOT\n",
      "AL\n",
      "IE\n",
      "ME\n",
      "MK\n",
      "RS\n",
      "AM\n",
      "AZ\n",
      "GE\n",
      "TR\n",
      "UA\n",
      "BY\n",
      "UK\n",
      "XK\n",
      "FX\n",
      "MD\n",
      "SM\n",
      "RU\n"
     ]
    }
   ],
   "source": [
    "list1 = int(len(country_list)/2)\n",
    "for country in country_list[list1:]:\n",
    "    print(country)"
   ]
  },
  {
   "cell_type": "code",
   "execution_count": 38,
   "id": "9c5c36d1",
   "metadata": {},
   "outputs": [
    {
     "data": {
      "text/plain": [
       "24.0"
      ]
     },
     "execution_count": 38,
     "metadata": {},
     "output_type": "execute_result"
    }
   ],
   "source": [
    "list1"
   ]
  },
  {
   "cell_type": "code",
   "execution_count": 1,
   "id": "7289aa0b",
   "metadata": {},
   "outputs": [],
   "source": [
    "\"\"\"Country Enum class to validate country parse.\"\"\"\n",
    "from enum import Enum, auto\n",
    "from strenum import StrEnum\n",
    "\n",
    "class Country(StrEnum):\n",
    "    \"\"\"Class to validate input in parser for region/country.\"\"\"\n",
    "    BG = auto()\n",
    "    BE = auto()\n",
    "    CH = auto()\n",
    "    AT = auto()\n",
    "    CY = auto()\n",
    "    CZ = auto()\n",
    "    EL = auto()\n",
    "    EE = auto()\n",
    "    ES = auto()\n",
    "    DK = auto()\n",
    "    FI = auto()\n",
    "    FR = auto()\n",
    "    HR = auto()\n",
    "    HU = auto()\n",
    "    IS = auto()\n",
    "    IT = auto()\n",
    "    LI = auto()\n",
    "    LT = auto()\n",
    "    LU = auto()\n",
    "    LV = auto()\n",
    "    MT = auto()\n",
    "    NL = auto()\n",
    "    NO = auto()\n",
    "    PL = auto()\n",
    "    PT = auto()\n",
    "    RO = auto()\n",
    "    SE = auto()\n",
    "    SI = auto()\n",
    "    SK = auto()\n",
    "    DE = auto()\n",
    "    DE_TOT = auto()\n",
    "    AL = auto()\n",
    "    IE = auto()\n",
    "    ME = auto()\n",
    "    MK = auto()\n",
    "    RS = auto()\n",
    "    AM = auto()\n",
    "    AZ = auto()\n",
    "    GE = auto()\n",
    "    TR = auto()\n",
    "    UA = auto()\n",
    "    BY = auto()\n",
    "    UK = auto()\n",
    "    XK = auto()\n",
    "    FX = auto()\n",
    "    MD = auto()\n",
    "    SM = auto()\n",
    "    RU = auto()\n",
    "\n",
    "    @classmethod\n",
    "    def _missing_(cls, value):\n",
    "        value = value.lower()\n",
    "        for member in cls:\n",
    "            if member.value == value:\n",
    "                return member\n",
    "        return None\n"
   ]
  },
  {
   "cell_type": "code",
   "execution_count": 19,
   "id": "4985c0c5",
   "metadata": {},
   "outputs": [
    {
     "data": {
      "text/plain": [
       "['PT',\n",
       " 'RO',\n",
       " 'SE',\n",
       " 'SI',\n",
       " 'SK',\n",
       " 'DE',\n",
       " 'DE_TOT',\n",
       " 'AL',\n",
       " 'IE',\n",
       " 'ME',\n",
       " 'MK',\n",
       " 'RS',\n",
       " 'AM',\n",
       " 'AZ',\n",
       " 'GE',\n",
       " 'TR',\n",
       " 'UA',\n",
       " 'BY',\n",
       " 'UK',\n",
       " 'XK',\n",
       " 'FX',\n",
       " 'MD',\n",
       " 'SM',\n",
       " 'RU']"
      ]
     },
     "execution_count": 19,
     "metadata": {},
     "output_type": "execute_result"
    }
   ],
   "source": [
    "Country.PT\n",
    "\n",
    "values = [member.value for member in Country]\n",
    "values[int(len(values)/2):]"
   ]
  },
  {
   "cell_type": "code",
   "execution_count": 15,
   "id": "c5ba33da",
   "metadata": {},
   "outputs": [
    {
     "data": {
      "text/plain": [
       "['BG',\n",
       " 'BE',\n",
       " 'CH',\n",
       " 'AT',\n",
       " 'CY',\n",
       " 'CZ',\n",
       " 'EL',\n",
       " 'EE',\n",
       " 'ES',\n",
       " 'DK',\n",
       " 'FI',\n",
       " 'FR',\n",
       " 'HR',\n",
       " 'HU',\n",
       " 'IS',\n",
       " 'IT',\n",
       " 'LI',\n",
       " 'LT',\n",
       " 'LU',\n",
       " 'LV',\n",
       " 'MT',\n",
       " 'NL',\n",
       " 'NO',\n",
       " 'PL',\n",
       " 'PT',\n",
       " 'RO',\n",
       " 'SE',\n",
       " 'SI',\n",
       " 'SK',\n",
       " 'DE',\n",
       " 'DE_TOT',\n",
       " 'AL',\n",
       " 'IE',\n",
       " 'ME',\n",
       " 'MK',\n",
       " 'RS',\n",
       " 'AM',\n",
       " 'AZ',\n",
       " 'GE',\n",
       " 'TR',\n",
       " 'UA',\n",
       " 'BY',\n",
       " 'UK',\n",
       " 'XK',\n",
       " 'FX',\n",
       " 'MD',\n",
       " 'SM',\n",
       " 'RU']"
      ]
     },
     "execution_count": 15,
     "metadata": {},
     "output_type": "execute_result"
    }
   ],
   "source": [
    "Country._member_names_"
   ]
  },
  {
   "cell_type": "code",
   "execution_count": 30,
   "id": "95aed782",
   "metadata": {},
   "outputs": [
    {
     "name": "stdout",
     "output_type": "stream",
     "text": [
      "c:\\Users\\crocs\\anaconda3\\lib\\enum.py\n"
     ]
    }
   ],
   "source": [
    "import enum\n",
    "\n",
    "print(enum.__file__)"
   ]
  },
  {
   "cell_type": "code",
   "execution_count": null,
   "id": "7d15c7eb",
   "metadata": {},
   "outputs": [],
   "source": [
    "\n"
   ]
  }
 ],
 "metadata": {
  "kernelspec": {
   "display_name": "Python 3.9.12 ('base')",
   "language": "python",
   "name": "python3"
  },
  "language_info": {
   "codemirror_mode": {
    "name": "ipython",
    "version": 3
   },
   "file_extension": ".py",
   "mimetype": "text/x-python",
   "name": "python",
   "nbconvert_exporter": "python",
   "pygments_lexer": "ipython3",
   "version": "3.9.12 (main, Apr  4 2022, 05:22:27) [MSC v.1916 64 bit (AMD64)]"
  },
  "vscode": {
   "interpreter": {
    "hash": "758018e35442099ca24f66f81fc165fa46ae3aa2023b3c332338340c44279a69"
   }
  }
 },
 "nbformat": 4,
 "nbformat_minor": 5
}
