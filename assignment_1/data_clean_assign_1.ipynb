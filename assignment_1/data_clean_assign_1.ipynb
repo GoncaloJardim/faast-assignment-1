{
 "cells": [
  {
   "cell_type": "code",
   "execution_count": 3,
   "id": "51ad0eba",
   "metadata": {},
   "outputs": [],
   "source": [
    "import pandas as pd\n",
    "import numpy as np\n",
    "import pathlib\n",
    "import argparse"
   ]
  },
  {
   "cell_type": "code",
   "execution_count": 4,
   "id": "8d5f6127",
   "metadata": {},
   "outputs": [],
   "source": [
    "DATA_PATH =  pathlib.Path().resolve().parents[0] / 'life_expectancy/data'"
   ]
  },
  {
   "cell_type": "code",
   "execution_count": 3,
   "id": "35dae8ca",
   "metadata": {},
   "outputs": [],
   "source": [
    "if __name__ == \"__main__\": # pragma: no cover\n",
    "    def clean_data():\n",
    "        \"\"\" Clean_data function does the following:\n",
    "            -Loads file.\n",
    "            -Melts Date columns into a single column;\n",
    "            -Split first column into 4 different;\n",
    "            -Remove NaN's;\n",
    "            -Transform columns value and year and its datatypes\n",
    "            -Filter region column, only for Portugal (PT).\n",
    "            -Save output into csv file, without index.\n",
    "        \"\"\"\n",
    "\n",
    "        DATA_PATH =  pathlib.Path().resolve().parents[0] / 'life_expectancy/data'\n",
    "\n",
    "        life_expectancy = pd.read_csv(\n",
    "            DATA_PATH.joinpath('eu_life_expectancy_raw.tsv'),\n",
    "            sep=\"\\t\")\n",
    "\n",
    "\n",
    "        life_expectancy.columns =  [column_title.replace(\"\\\\\",\"\") for column_title in life_expectancy.columns]\n",
    "\n",
    "        life_expectancy = pd.melt(life_expectancy, \n",
    "                                id_vars= life_expectancy.columns[0], \n",
    "                                var_name= \"year\",\n",
    "                                value_vars= life_expectancy.columns[1:],\n",
    "                                value_name= \"value\")\n",
    "                            \n",
    "\n",
    "        life_expectancy[[\"unit\",\"sex\",\"age\",\"region\"]] = (life_expectancy[\"unit,sex,age,geotime\"].\n",
    "                                                        str.split(',', expand=True)\n",
    "        )\n",
    "\n",
    "        life_expectancy = (\n",
    "            life_expectancy.\n",
    "            drop(columns=\"unit,sex,age,geotime\").\n",
    "            replace(\": \",np.NaN).\n",
    "            dropna(how=\"any\")\n",
    "            )   \n",
    "            \n",
    "        life_expectancy[\"value\"] = ( \n",
    "            life_expectancy[\"value\"].\n",
    "            str.split().str[0]\n",
    "        )\n",
    "\n",
    "        life_expectancy = life_expectancy[life_expectancy[\"region\"]==\"PT\"]\n",
    "\n",
    "        life_expectancy = life_expectancy.astype(\n",
    "            {\"year\":int, \"value\": float})\n",
    "\n",
    "        life_expectancy[\n",
    "            [\"unit\",\"sex\",\"age\",\"region\",\"year\",\"value\"]\n",
    "            ].to_csv(\n",
    "                DATA_PATH.joinpath(\"pt_life_expectancy.csv\"),\n",
    "                index= False)\n",
    "\n",
    "\n",
    "\n"
   ]
  },
  {
   "cell_type": "code",
   "execution_count": 4,
   "id": "1b02d3cc",
   "metadata": {},
   "outputs": [],
   "source": [
    "DATA_PATH =  pathlib.Path().resolve().parents[0] / 'life_expectancy/data'\n"
   ]
  },
  {
   "cell_type": "code",
   "execution_count": 5,
   "id": "54775ddf",
   "metadata": {},
   "outputs": [],
   "source": [
    "life_expectancy = pd.read_csv(DATA_PATH.joinpath('eu_life_expectancy_raw.tsv'),\n",
    "                              sep=\"\\t\")"
   ]
  },
  {
   "cell_type": "code",
   "execution_count": 6,
   "id": "e9243cb0",
   "metadata": {},
   "outputs": [],
   "source": [
    "life_expectancy.columns =  [column_title.replace(\"\\\\\",\"\") for column_title in life_expectancy.columns]\n",
    "\n",
    "life_expectancy = pd.melt(life_expectancy, \n",
    "                          id_vars= life_expectancy.columns[0], \n",
    "                          var_name= \"year\",\n",
    "                          value_vars= life_expectancy.columns[1:],\n",
    "                          value_name= \"value\")\n",
    "                      \n",
    "\n",
    "life_expectancy[[\"unit\",\"sex\",\"age\",\"region\"]] = (life_expectancy[\"unit,sex,age,geotime\"].\n",
    "                                                  str.split(',', expand=True)\n",
    ")\n",
    "\n",
    "life_expectancy = (\n",
    "    life_expectancy.\n",
    "    drop(columns=\"unit,sex,age,geotime\").\n",
    "    replace(\": \",np.NaN).\n",
    "    dropna(how=\"any\")\n",
    "    )   \n",
    "    \n",
    "life_expectancy[\"value\"] = ( \n",
    "    life_expectancy[\"value\"].\n",
    "    str.split().str[0]\n",
    ")\n",
    "\n",
    "life_expectancy = life_expectancy[life_expectancy[\"region\"]==\"PT\"]\n",
    "\n",
    "life_expectancy = life_expectancy.astype(\n",
    "    {\"year\":int, \"value\": float})\n",
    "\n",
    "life_expectancy = life_expectancy[\n",
    "    [\"unit\",\"sex\",\"age\",\"region\",\"year\",\"value\"]\n",
    "    ]\n",
    " "
   ]
  },
  {
   "cell_type": "code",
   "execution_count": 20,
   "id": "7f122b82",
   "metadata": {},
   "outputs": [],
   "source": [
    "life_expectancy.to_csv(\n",
    "    DATA_PATH.joinpath(\"pt_life_expectancy.csv\"),\n",
    "    index= False)\n"
   ]
  },
  {
   "cell_type": "markdown",
   "id": "4fecbe2a",
   "metadata": {},
   "source": [
    "#### Work on Enum:"
   ]
  },
  {
   "cell_type": "code",
   "execution_count": 5,
   "id": "0fb74ce8",
   "metadata": {},
   "outputs": [],
   "source": [
    "EXPECTED_PATH = pathlib.Path().resolve().parents[0] / 'life_expectancy/tests/fixtures'"
   ]
  },
  {
   "cell_type": "code",
   "execution_count": 6,
   "id": "ae8c099b",
   "metadata": {},
   "outputs": [],
   "source": [
    "work_countries = pd.read_csv(EXPECTED_PATH.joinpath('eu_life_expectancy_expected.csv'))"
   ]
  },
  {
   "cell_type": "code",
   "execution_count": 28,
   "id": "954bbcf9",
   "metadata": {},
   "outputs": [],
   "source": [
    "work_countries = work_countries[~work_countries[\"region\"].str.contains(pat=\"\\d\", regex = True)]"
   ]
  },
  {
   "cell_type": "code",
   "execution_count": 31,
   "id": "77d83026",
   "metadata": {},
   "outputs": [],
   "source": [
    "country_list = list(work_countries[work_countries[\"region\"]!=\"EFTA\"][\"region\"].unique())"
   ]
  },
  {
   "cell_type": "code",
   "execution_count": 40,
   "id": "2bdc7b4f",
   "metadata": {},
   "outputs": [
    {
     "name": "stdout",
     "output_type": "stream",
     "text": [
      "PT\n",
      "RO\n",
      "SE\n",
      "SI\n",
      "SK\n",
      "DE\n",
      "DE_TOT\n",
      "AL\n",
      "IE\n",
      "ME\n",
      "MK\n",
      "RS\n",
      "AM\n",
      "AZ\n",
      "GE\n",
      "TR\n",
      "UA\n",
      "BY\n",
      "UK\n",
      "XK\n",
      "FX\n",
      "MD\n",
      "SM\n",
      "RU\n"
     ]
    }
   ],
   "source": [
    "list1 = int(len(country_list)/2)\n",
    "for country in country_list[list1:]:\n",
    "    print(country)"
   ]
  },
  {
   "cell_type": "code",
   "execution_count": 38,
   "id": "9c5c36d1",
   "metadata": {},
   "outputs": [
    {
     "data": {
      "text/plain": [
       "24.0"
      ]
     },
     "execution_count": 38,
     "metadata": {},
     "output_type": "execute_result"
    }
   ],
   "source": [
    "list1"
   ]
  },
  {
   "cell_type": "code",
   "execution_count": 1,
   "id": "7289aa0b",
   "metadata": {},
   "outputs": [],
   "source": [
    "\"\"\"Country Enum class to validate country parse.\"\"\"\n",
    "from enum import Enum, auto\n",
    "from strenum import StrEnum\n",
    "\n",
    "class Country(StrEnum):\n",
    "    \"\"\"Class to validate input in parser for region/country.\"\"\"\n",
    "    BG = auto()\n",
    "    BE = auto()\n",
    "    CH = auto()\n",
    "    AT = auto()\n",
    "    CY = auto()\n",
    "    CZ = auto()\n",
    "    EL = auto()\n",
    "    EE = auto()\n",
    "    ES = auto()\n",
    "    DK = auto()\n",
    "    FI = auto()\n",
    "    FR = auto()\n",
    "    HR = auto()\n",
    "    HU = auto()\n",
    "    IS = auto()\n",
    "    IT = auto()\n",
    "    LI = auto()\n",
    "    LT = auto()\n",
    "    LU = auto()\n",
    "    LV = auto()\n",
    "    MT = auto()\n",
    "    NL = auto()\n",
    "    NO = auto()\n",
    "    PL = auto()\n",
    "    PT = auto()\n",
    "    RO = auto()\n",
    "    SE = auto()\n",
    "    SI = auto()\n",
    "    SK = auto()\n",
    "    DE = auto()\n",
    "    DE_TOT = auto()\n",
    "    AL = auto()\n",
    "    IE = auto()\n",
    "    ME = auto()\n",
    "    MK = auto()\n",
    "    RS = auto()\n",
    "    AM = auto()\n",
    "    AZ = auto()\n",
    "    GE = auto()\n",
    "    TR = auto()\n",
    "    UA = auto()\n",
    "    BY = auto()\n",
    "    UK = auto()\n",
    "    XK = auto()\n",
    "    FX = auto()\n",
    "    MD = auto()\n",
    "    SM = auto()\n",
    "    RU = auto()\n",
    "\n",
    "    @classmethod\n",
    "    def _missing_(cls, value):\n",
    "        value = value.lower()\n",
    "        for member in cls:\n",
    "            if member.value == value:\n",
    "                return member\n",
    "        return None\n"
   ]
  },
  {
   "cell_type": "code",
   "execution_count": 2,
   "id": "4985c0c5",
   "metadata": {},
   "outputs": [],
   "source": [
    "Country.PT\n",
    "\n",
    "values = [member.value for member in Country]"
   ]
  },
  {
   "cell_type": "code",
   "execution_count": 15,
   "id": "c5ba33da",
   "metadata": {},
   "outputs": [
    {
     "data": {
      "text/plain": [
       "['BG',\n",
       " 'BE',\n",
       " 'CH',\n",
       " 'AT',\n",
       " 'CY',\n",
       " 'CZ',\n",
       " 'EL',\n",
       " 'EE',\n",
       " 'ES',\n",
       " 'DK',\n",
       " 'FI',\n",
       " 'FR',\n",
       " 'HR',\n",
       " 'HU',\n",
       " 'IS',\n",
       " 'IT',\n",
       " 'LI',\n",
       " 'LT',\n",
       " 'LU',\n",
       " 'LV',\n",
       " 'MT',\n",
       " 'NL',\n",
       " 'NO',\n",
       " 'PL',\n",
       " 'PT',\n",
       " 'RO',\n",
       " 'SE',\n",
       " 'SI',\n",
       " 'SK',\n",
       " 'DE',\n",
       " 'DE_TOT',\n",
       " 'AL',\n",
       " 'IE',\n",
       " 'ME',\n",
       " 'MK',\n",
       " 'RS',\n",
       " 'AM',\n",
       " 'AZ',\n",
       " 'GE',\n",
       " 'TR',\n",
       " 'UA',\n",
       " 'BY',\n",
       " 'UK',\n",
       " 'XK',\n",
       " 'FX',\n",
       " 'MD',\n",
       " 'SM',\n",
       " 'RU']"
      ]
     },
     "execution_count": 15,
     "metadata": {},
     "output_type": "execute_result"
    }
   ],
   "source": [
    "Country._member_names_"
   ]
  },
  {
   "cell_type": "code",
   "execution_count": null,
   "id": "95aed782",
   "metadata": {},
   "outputs": [],
   "source": []
  }
 ],
 "metadata": {
  "kernelspec": {
   "display_name": "Python 3.9.12 ('base')",
   "language": "python",
   "name": "python3"
  },
  "language_info": {
   "codemirror_mode": {
    "name": "ipython",
    "version": 3
   },
   "file_extension": ".py",
   "mimetype": "text/x-python",
   "name": "python",
   "nbconvert_exporter": "python",
   "pygments_lexer": "ipython3",
   "version": "3.9.12"
  },
  "vscode": {
   "interpreter": {
    "hash": "758018e35442099ca24f66f81fc165fa46ae3aa2023b3c332338340c44279a69"
   }
  }
 },
 "nbformat": 4,
 "nbformat_minor": 5
}
